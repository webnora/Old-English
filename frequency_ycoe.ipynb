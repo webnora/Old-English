{
 "cells": [
  {
   "cell_type": "code",
   "execution_count": 1,
   "metadata": {},
   "outputs": [],
   "source": [
    "import nltk\n",
    "import pandas as pd\n",
    "import numpy as np\n",
    "import re"
   ]
  },
  {
   "cell_type": "code",
   "execution_count": 2,
   "metadata": {},
   "outputs": [],
   "source": [
    "ycoe_files = nltk.corpus.reader.ycoe.YCOECorpusReader('in/ycoe2')"
   ]
  },
  {
   "cell_type": "code",
   "execution_count": 3,
   "metadata": {},
   "outputs": [],
   "source": [
    "# corpus_files.documents()"
   ]
  },
  {
   "cell_type": "code",
   "execution_count": 4,
   "metadata": {},
   "outputs": [],
   "source": [
    "ycoe_words = ycoe_files.words()\n",
    "# list(ycoe_words)"
   ]
  },
  {
   "cell_type": "code",
   "execution_count": null,
   "metadata": {},
   "outputs": [],
   "source": [
    "len(ycoe_words)"
   ]
  },
  {
   "cell_type": "code",
   "execution_count": null,
   "metadata": {},
   "outputs": [],
   "source": [
    "ycoe_words_lower = []\n",
    "for word in ycoe_words:\n",
    "    ycoe_words_lower.append(word.lower())\n",
    "len(ycoe_words_lower)"
   ]
  },
  {
   "cell_type": "code",
   "execution_count": null,
   "metadata": {},
   "outputs": [],
   "source": [
    "ycoe_words_lower [0:10]"
   ]
  },
  {
   "cell_type": "code",
   "execution_count": null,
   "metadata": {},
   "outputs": [],
   "source": [
    "str_v = ' '.join(str(e) for e in ycoe_words_lower)\n",
    "len(re.findall(r\"\\s(v\\w*)\", str_v))"
   ]
  },
  {
   "cell_type": "code",
   "execution_count": null,
   "metadata": {},
   "outputs": [],
   "source": [
    "len(v)"
   ]
  },
  {
   "cell_type": "code",
   "execution_count": null,
   "metadata": {},
   "outputs": [],
   "source": [
    "# list(ycoe_words_lower[0:10])"
   ]
  },
  {
   "cell_type": "code",
   "execution_count": null,
   "metadata": {},
   "outputs": [],
   "source": [
    "# list(ycoe_words[0:10])"
   ]
  },
  {
   "cell_type": "code",
   "execution_count": null,
   "metadata": {},
   "outputs": [],
   "source": [
    "from collections import defaultdict\n",
    "dic_words = defaultdict(list)\n",
    "for word in ycoe_words_lower:\n",
    "    initial = word[0] \n",
    "    if initial not in ['.', ',', ';', \"$\", \"&\", ':',\"*\",'?','-', '!']:\n",
    "        dic_words[initial].append(word)\n",
    "# dic_words.keys()"
   ]
  },
  {
   "cell_type": "code",
   "execution_count": null,
   "metadata": {},
   "outputs": [],
   "source": [
    "# dic_words"
   ]
  },
  {
   "cell_type": "code",
   "execution_count": null,
   "metadata": {},
   "outputs": [],
   "source": [
    "frequency = {}\n",
    "for key in dic_words:\n",
    "    frequency[key] = {'all': len(dic_words[key]), 'unique': len(set(dic_words[key]))}\n",
    "table_ycoe = pd.DataFrame.from_dict(frequency, orient='index').sort_values('unique', ascending=False)\n",
    "# table_ycoe"
   ]
  },
  {
   "cell_type": "code",
   "execution_count": null,
   "metadata": {},
   "outputs": [],
   "source": [
    "# list(table_ycoe)"
   ]
  },
  {
   "cell_type": "code",
   "execution_count": null,
   "metadata": {},
   "outputs": [],
   "source": [
    "# table_ycoe.index.values"
   ]
  },
  {
   "cell_type": "code",
   "execution_count": null,
   "metadata": {},
   "outputs": [],
   "source": [
    "no_vowels_table_ycoe = table_ycoe.drop(['a', 'u', 'o', 'e', 'i', 'y', 'v'])"
   ]
  },
  {
   "cell_type": "code",
   "execution_count": null,
   "metadata": {},
   "outputs": [],
   "source": [
    "from cltk.stop.old_english.stops import STOPS_LIST\n",
    "ycoe_words_lower_stop = [w for w in ycoe_words_lower if not w in STOPS_LIST]"
   ]
  },
  {
   "cell_type": "code",
   "execution_count": null,
   "metadata": {},
   "outputs": [],
   "source": [
    "len(ycoe_words_lower_stop)"
   ]
  },
  {
   "cell_type": "code",
   "execution_count": null,
   "metadata": {},
   "outputs": [],
   "source": [
    "from collections import defaultdict\n",
    "dic_words_stop = defaultdict(list)\n",
    "for word in ycoe_words_lower_stop:\n",
    "    initial_stop = word[0] \n",
    "    if initial_stop not in ['.', ',', ';', \"$\", \"&\", ':',\"*\",'?','-', '!']:\n",
    "        dic_words_stop[initial_stop].append(word)\n",
    "# list(dic_words_stop)"
   ]
  },
  {
   "cell_type": "code",
   "execution_count": null,
   "metadata": {},
   "outputs": [],
   "source": [
    "frequency_stop = {}\n",
    "for key in dic_words_stop:\n",
    "    frequency_stop[key] = {'all_words_stop': len(dic_words_stop[key]), 'unique_stop': len(set(dic_words_stop[key]))}\n",
    "table_ycoe_stop = pd.DataFrame.from_dict(frequency_stop, orient='index').sort_values('unique_stop', ascending=False)\n",
    "# table_ycoe_stop"
   ]
  },
  {
   "cell_type": "code",
   "execution_count": null,
   "metadata": {},
   "outputs": [],
   "source": [
    "table_ycoe.join(table_ycoe_stop)"
   ]
  },
  {
   "cell_type": "code",
   "execution_count": null,
   "metadata": {},
   "outputs": [],
   "source": [
    "no_vowels_table_ycoe_stop = table_ycoe_stop.drop(['a', 'u', 'o', 'e', 'i', 'y', 'v'])"
   ]
  },
  {
   "cell_type": "code",
   "execution_count": null,
   "metadata": {},
   "outputs": [],
   "source": [
    "no_vowels_table_ycoe.join(no_vowels_table_ycoe_stop)"
   ]
  },
  {
   "cell_type": "code",
   "execution_count": null,
   "metadata": {},
   "outputs": [],
   "source": []
  }
 ],
 "metadata": {
  "kernelspec": {
   "display_name": "Python 3",
   "language": "python",
   "name": "python3"
  },
  "language_info": {
   "codemirror_mode": {
    "name": "ipython",
    "version": 3
   },
   "file_extension": ".py",
   "mimetype": "text/x-python",
   "name": "python",
   "nbconvert_exporter": "python",
   "pygments_lexer": "ipython3",
   "version": "3.7.3"
  }
 },
 "nbformat": 4,
 "nbformat_minor": 4
}
