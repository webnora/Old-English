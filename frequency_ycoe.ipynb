{
 "cells": [
  {
   "cell_type": "code",
   "execution_count": 1,
   "metadata": {},
   "outputs": [],
   "source": [
    "import nltk\n",
    "import pandas as pd\n",
    "import numpy as np\n",
    "import re"
   ]
  },
  {
   "cell_type": "code",
   "execution_count": 2,
   "metadata": {},
   "outputs": [],
   "source": [
    "ycoe_files = nltk.corpus.reader.ycoe.YCOECorpusReader('in/ycoe2')"
   ]
  },
  {
   "cell_type": "code",
   "execution_count": 3,
   "metadata": {},
   "outputs": [],
   "source": [
    "# corpus_files.documents()"
   ]
  },
  {
   "cell_type": "code",
   "execution_count": 4,
   "metadata": {},
   "outputs": [],
   "source": [
    "ycoe_words = ycoe_files.words()\n",
    "# list(ycoe_words)"
   ]
  },
  {
   "cell_type": "code",
   "execution_count": 5,
   "metadata": {},
   "outputs": [
    {
     "data": {
      "text/plain": [
       "1639127"
      ]
     },
     "execution_count": 5,
     "metadata": {},
     "output_type": "execute_result"
    }
   ],
   "source": [
    "len(ycoe_words)"
   ]
  },
  {
   "cell_type": "code",
   "execution_count": 6,
   "metadata": {},
   "outputs": [
    {
     "data": {
      "text/plain": [
       "1639127"
      ]
     },
     "execution_count": 6,
     "metadata": {},
     "output_type": "execute_result"
    }
   ],
   "source": [
    "ycoe_words_lower = []\n",
    "for word in ycoe_words:\n",
    "    ycoe_words_lower.append(word.lower())\n",
    "len(ycoe_words_lower)"
   ]
  },
  {
   "cell_type": "code",
   "execution_count": 7,
   "metadata": {},
   "outputs": [
    {
     "data": {
      "text/plain": [
       "['adrianus',\n",
       " 'cw+a+d',\n",
       " 'to',\n",
       " 'ritheus',\n",
       " '.',\n",
       " 'saga',\n",
       " 'me',\n",
       " 'hu',\n",
       " 'lange',\n",
       " 'w+as']"
      ]
     },
     "execution_count": 7,
     "metadata": {},
     "output_type": "execute_result"
    }
   ],
   "source": [
    "ycoe_words_lower [0:10]"
   ]
  },
  {
   "cell_type": "code",
   "execution_count": 8,
   "metadata": {},
   "outputs": [
    {
     "data": {
      "text/plain": [
       "830"
      ]
     },
     "execution_count": 8,
     "metadata": {},
     "output_type": "execute_result"
    }
   ],
   "source": [
    "str_v = ' '.join(str(e) for e in ycoe_words_lower)\n",
    "len(re.findall(r\"\\s(v\\w*)\", str_v))"
   ]
  },
  {
   "cell_type": "code",
   "execution_count": 10,
   "metadata": {},
   "outputs": [],
   "source": [
    "# list(ycoe_words_lower[0:10])"
   ]
  },
  {
   "cell_type": "code",
   "execution_count": 11,
   "metadata": {},
   "outputs": [],
   "source": [
    "# list(ycoe_words[0:10])"
   ]
  },
  {
   "cell_type": "code",
   "execution_count": 12,
   "metadata": {},
   "outputs": [],
   "source": [
    "from collections import defaultdict\n",
    "dic_words = defaultdict(list)\n",
    "for word in ycoe_words_lower:\n",
    "    initial = word[0] \n",
    "    if initial not in ['.', ',', ';', \"$\", \"&\", ':',\"*\",'?','-', '!']:\n",
    "        dic_words[initial].append(word)\n",
    "# dic_words.keys()"
   ]
  },
  {
   "cell_type": "code",
   "execution_count": 13,
   "metadata": {},
   "outputs": [],
   "source": [
    "# dic_words"
   ]
  },
  {
   "cell_type": "code",
   "execution_count": 14,
   "metadata": {},
   "outputs": [],
   "source": [
    "frequency = {}\n",
    "for key in dic_words:\n",
    "    frequency[key] = {'all': len(dic_words[key]), 'unique': len(set(dic_words[key]))}\n",
    "table_ycoe = pd.DataFrame.from_dict(frequency, orient='index').sort_values('unique', ascending=False)\n",
    "# table_ycoe"
   ]
  },
  {
   "cell_type": "code",
   "execution_count": 15,
   "metadata": {},
   "outputs": [],
   "source": [
    "# list(table_ycoe)"
   ]
  },
  {
   "cell_type": "code",
   "execution_count": 16,
   "metadata": {},
   "outputs": [],
   "source": [
    "# table_ycoe.index.values"
   ]
  },
  {
   "cell_type": "code",
   "execution_count": 17,
   "metadata": {},
   "outputs": [],
   "source": [
    "no_vowels_table_ycoe = table_ycoe.drop(['a', 'u', 'o', 'e', 'i', 'y', 'v'])"
   ]
  },
  {
   "cell_type": "code",
   "execution_count": 18,
   "metadata": {},
   "outputs": [],
   "source": [
    "from cltk.stop.old_english.stops import STOPS_LIST\n",
    "ycoe_words_lower_stop = [w for w in ycoe_words_lower if not w in STOPS_LIST]"
   ]
  },
  {
   "cell_type": "code",
   "execution_count": 19,
   "metadata": {},
   "outputs": [
    {
     "data": {
      "text/plain": [
       "1404957"
      ]
     },
     "execution_count": 19,
     "metadata": {},
     "output_type": "execute_result"
    }
   ],
   "source": [
    "len(ycoe_words_lower_stop)"
   ]
  },
  {
   "cell_type": "code",
   "execution_count": 20,
   "metadata": {},
   "outputs": [],
   "source": [
    "from collections import defaultdict\n",
    "dic_words_stop = defaultdict(list)\n",
    "for word in ycoe_words_lower_stop:\n",
    "    initial_stop = word[0] \n",
    "    if initial_stop not in ['.', ',', ';', \"$\", \"&\", ':',\"*\",'?','-', '!']:\n",
    "        dic_words_stop[initial_stop].append(word)\n",
    "# list(dic_words_stop)"
   ]
  },
  {
   "cell_type": "code",
   "execution_count": 21,
   "metadata": {},
   "outputs": [],
   "source": [
    "frequency_stop = {}\n",
    "for key in dic_words_stop:\n",
    "    frequency_stop[key] = {'all_words_stop': len(dic_words_stop[key]), 'unique_stop': len(set(dic_words_stop[key]))}\n",
    "table_ycoe_stop = pd.DataFrame.from_dict(frequency_stop, orient='index').sort_values('unique_stop', ascending=False)\n",
    "# table_ycoe_stop"
   ]
  },
  {
   "cell_type": "code",
   "execution_count": 22,
   "metadata": {},
   "outputs": [
    {
     "data": {
      "text/html": [
       "<div>\n",
       "<style scoped>\n",
       "    .dataframe tbody tr th:only-of-type {\n",
       "        vertical-align: middle;\n",
       "    }\n",
       "\n",
       "    .dataframe tbody tr th {\n",
       "        vertical-align: top;\n",
       "    }\n",
       "\n",
       "    .dataframe thead th {\n",
       "        text-align: right;\n",
       "    }\n",
       "</style>\n",
       "<table border=\"1\" class=\"dataframe\">\n",
       "  <thead>\n",
       "    <tr style=\"text-align: right;\">\n",
       "      <th></th>\n",
       "      <th>all</th>\n",
       "      <th>unique</th>\n",
       "      <th>all_words_stop</th>\n",
       "      <th>unique_stop</th>\n",
       "    </tr>\n",
       "  </thead>\n",
       "  <tbody>\n",
       "    <tr>\n",
       "      <th>g</th>\n",
       "      <td>109027</td>\n",
       "      <td>11845</td>\n",
       "      <td>108314</td>\n",
       "      <td>11842</td>\n",
       "    </tr>\n",
       "    <tr>\n",
       "      <th>s</th>\n",
       "      <td>124499</td>\n",
       "      <td>7329</td>\n",
       "      <td>123444</td>\n",
       "      <td>7324</td>\n",
       "    </tr>\n",
       "    <tr>\n",
       "      <th>a</th>\n",
       "      <td>70305</td>\n",
       "      <td>5710</td>\n",
       "      <td>44107</td>\n",
       "      <td>5709</td>\n",
       "    </tr>\n",
       "    <tr>\n",
       "      <th>f</th>\n",
       "      <td>55554</td>\n",
       "      <td>5463</td>\n",
       "      <td>44269</td>\n",
       "      <td>5460</td>\n",
       "    </tr>\n",
       "    <tr>\n",
       "      <th>w</th>\n",
       "      <td>82473</td>\n",
       "      <td>5054</td>\n",
       "      <td>82173</td>\n",
       "      <td>5052</td>\n",
       "    </tr>\n",
       "    <tr>\n",
       "      <th>b</th>\n",
       "      <td>54524</td>\n",
       "      <td>4985</td>\n",
       "      <td>48972</td>\n",
       "      <td>4981</td>\n",
       "    </tr>\n",
       "    <tr>\n",
       "      <th>+</th>\n",
       "      <td>251625</td>\n",
       "      <td>4690</td>\n",
       "      <td>251625</td>\n",
       "      <td>4690</td>\n",
       "    </tr>\n",
       "    <tr>\n",
       "      <th>h</th>\n",
       "      <td>169913</td>\n",
       "      <td>4680</td>\n",
       "      <td>99929</td>\n",
       "      <td>4668</td>\n",
       "    </tr>\n",
       "    <tr>\n",
       "      <th>c</th>\n",
       "      <td>42236</td>\n",
       "      <td>3849</td>\n",
       "      <td>42236</td>\n",
       "      <td>3849</td>\n",
       "    </tr>\n",
       "    <tr>\n",
       "      <th>m</th>\n",
       "      <td>77687</td>\n",
       "      <td>3395</td>\n",
       "      <td>56598</td>\n",
       "      <td>3392</td>\n",
       "    </tr>\n",
       "    <tr>\n",
       "      <th>u</th>\n",
       "      <td>20312</td>\n",
       "      <td>3277</td>\n",
       "      <td>19716</td>\n",
       "      <td>3274</td>\n",
       "    </tr>\n",
       "    <tr>\n",
       "      <th>o</th>\n",
       "      <td>71002</td>\n",
       "      <td>3179</td>\n",
       "      <td>35490</td>\n",
       "      <td>3177</td>\n",
       "    </tr>\n",
       "    <tr>\n",
       "      <th>e</th>\n",
       "      <td>49402</td>\n",
       "      <td>3117</td>\n",
       "      <td>48796</td>\n",
       "      <td>3113</td>\n",
       "    </tr>\n",
       "    <tr>\n",
       "      <th>l</th>\n",
       "      <td>30371</td>\n",
       "      <td>2863</td>\n",
       "      <td>30371</td>\n",
       "      <td>2863</td>\n",
       "    </tr>\n",
       "    <tr>\n",
       "      <th>t</th>\n",
       "      <td>41652</td>\n",
       "      <td>2711</td>\n",
       "      <td>15406</td>\n",
       "      <td>2709</td>\n",
       "    </tr>\n",
       "    <tr>\n",
       "      <th>d</th>\n",
       "      <td>28030</td>\n",
       "      <td>2154</td>\n",
       "      <td>28030</td>\n",
       "      <td>2154</td>\n",
       "    </tr>\n",
       "    <tr>\n",
       "      <th>n</th>\n",
       "      <td>43318</td>\n",
       "      <td>1881</td>\n",
       "      <td>26440</td>\n",
       "      <td>1875</td>\n",
       "    </tr>\n",
       "    <tr>\n",
       "      <th>r</th>\n",
       "      <td>11876</td>\n",
       "      <td>1574</td>\n",
       "      <td>11876</td>\n",
       "      <td>1574</td>\n",
       "    </tr>\n",
       "    <tr>\n",
       "      <th>i</th>\n",
       "      <td>32992</td>\n",
       "      <td>1459</td>\n",
       "      <td>14836</td>\n",
       "      <td>1455</td>\n",
       "    </tr>\n",
       "    <tr>\n",
       "      <th>p</th>\n",
       "      <td>6276</td>\n",
       "      <td>1272</td>\n",
       "      <td>6276</td>\n",
       "      <td>1272</td>\n",
       "    </tr>\n",
       "    <tr>\n",
       "      <th>y</th>\n",
       "      <td>7581</td>\n",
       "      <td>656</td>\n",
       "      <td>7581</td>\n",
       "      <td>656</td>\n",
       "    </tr>\n",
       "    <tr>\n",
       "      <th>k</th>\n",
       "      <td>962</td>\n",
       "      <td>195</td>\n",
       "      <td>962</td>\n",
       "      <td>195</td>\n",
       "    </tr>\n",
       "    <tr>\n",
       "      <th>q</th>\n",
       "      <td>547</td>\n",
       "      <td>114</td>\n",
       "      <td>547</td>\n",
       "      <td>114</td>\n",
       "    </tr>\n",
       "    <tr>\n",
       "      <th>v</th>\n",
       "      <td>830</td>\n",
       "      <td>109</td>\n",
       "      <td>830</td>\n",
       "      <td>109</td>\n",
       "    </tr>\n",
       "    <tr>\n",
       "      <th>x</th>\n",
       "      <td>1226</td>\n",
       "      <td>90</td>\n",
       "      <td>1226</td>\n",
       "      <td>90</td>\n",
       "    </tr>\n",
       "    <tr>\n",
       "      <th>z</th>\n",
       "      <td>183</td>\n",
       "      <td>49</td>\n",
       "      <td>183</td>\n",
       "      <td>49</td>\n",
       "    </tr>\n",
       "    <tr>\n",
       "      <th>j</th>\n",
       "      <td>59</td>\n",
       "      <td>20</td>\n",
       "      <td>59</td>\n",
       "      <td>20</td>\n",
       "    </tr>\n",
       "  </tbody>\n",
       "</table>\n",
       "</div>"
      ],
      "text/plain": [
       "      all  unique  all_words_stop  unique_stop\n",
       "g  109027   11845          108314        11842\n",
       "s  124499    7329          123444         7324\n",
       "a   70305    5710           44107         5709\n",
       "f   55554    5463           44269         5460\n",
       "w   82473    5054           82173         5052\n",
       "b   54524    4985           48972         4981\n",
       "+  251625    4690          251625         4690\n",
       "h  169913    4680           99929         4668\n",
       "c   42236    3849           42236         3849\n",
       "m   77687    3395           56598         3392\n",
       "u   20312    3277           19716         3274\n",
       "o   71002    3179           35490         3177\n",
       "e   49402    3117           48796         3113\n",
       "l   30371    2863           30371         2863\n",
       "t   41652    2711           15406         2709\n",
       "d   28030    2154           28030         2154\n",
       "n   43318    1881           26440         1875\n",
       "r   11876    1574           11876         1574\n",
       "i   32992    1459           14836         1455\n",
       "p    6276    1272            6276         1272\n",
       "y    7581     656            7581          656\n",
       "k     962     195             962          195\n",
       "q     547     114             547          114\n",
       "v     830     109             830          109\n",
       "x    1226      90            1226           90\n",
       "z     183      49             183           49\n",
       "j      59      20              59           20"
      ]
     },
     "execution_count": 22,
     "metadata": {},
     "output_type": "execute_result"
    }
   ],
   "source": [
    "table_ycoe.join(table_ycoe_stop)"
   ]
  },
  {
   "cell_type": "code",
   "execution_count": 23,
   "metadata": {},
   "outputs": [],
   "source": [
    "no_vowels_table_ycoe_stop = table_ycoe_stop.drop(['a', 'u', 'o', 'e', 'i', 'y', 'v'])"
   ]
  },
  {
   "cell_type": "code",
   "execution_count": 24,
   "metadata": {},
   "outputs": [
    {
     "data": {
      "text/html": [
       "<div>\n",
       "<style scoped>\n",
       "    .dataframe tbody tr th:only-of-type {\n",
       "        vertical-align: middle;\n",
       "    }\n",
       "\n",
       "    .dataframe tbody tr th {\n",
       "        vertical-align: top;\n",
       "    }\n",
       "\n",
       "    .dataframe thead th {\n",
       "        text-align: right;\n",
       "    }\n",
       "</style>\n",
       "<table border=\"1\" class=\"dataframe\">\n",
       "  <thead>\n",
       "    <tr style=\"text-align: right;\">\n",
       "      <th></th>\n",
       "      <th>all</th>\n",
       "      <th>unique</th>\n",
       "      <th>all_words_stop</th>\n",
       "      <th>unique_stop</th>\n",
       "    </tr>\n",
       "  </thead>\n",
       "  <tbody>\n",
       "    <tr>\n",
       "      <th>g</th>\n",
       "      <td>109027</td>\n",
       "      <td>11845</td>\n",
       "      <td>108314</td>\n",
       "      <td>11842</td>\n",
       "    </tr>\n",
       "    <tr>\n",
       "      <th>s</th>\n",
       "      <td>124499</td>\n",
       "      <td>7329</td>\n",
       "      <td>123444</td>\n",
       "      <td>7324</td>\n",
       "    </tr>\n",
       "    <tr>\n",
       "      <th>f</th>\n",
       "      <td>55554</td>\n",
       "      <td>5463</td>\n",
       "      <td>44269</td>\n",
       "      <td>5460</td>\n",
       "    </tr>\n",
       "    <tr>\n",
       "      <th>w</th>\n",
       "      <td>82473</td>\n",
       "      <td>5054</td>\n",
       "      <td>82173</td>\n",
       "      <td>5052</td>\n",
       "    </tr>\n",
       "    <tr>\n",
       "      <th>b</th>\n",
       "      <td>54524</td>\n",
       "      <td>4985</td>\n",
       "      <td>48972</td>\n",
       "      <td>4981</td>\n",
       "    </tr>\n",
       "    <tr>\n",
       "      <th>+</th>\n",
       "      <td>251625</td>\n",
       "      <td>4690</td>\n",
       "      <td>251625</td>\n",
       "      <td>4690</td>\n",
       "    </tr>\n",
       "    <tr>\n",
       "      <th>h</th>\n",
       "      <td>169913</td>\n",
       "      <td>4680</td>\n",
       "      <td>99929</td>\n",
       "      <td>4668</td>\n",
       "    </tr>\n",
       "    <tr>\n",
       "      <th>c</th>\n",
       "      <td>42236</td>\n",
       "      <td>3849</td>\n",
       "      <td>42236</td>\n",
       "      <td>3849</td>\n",
       "    </tr>\n",
       "    <tr>\n",
       "      <th>m</th>\n",
       "      <td>77687</td>\n",
       "      <td>3395</td>\n",
       "      <td>56598</td>\n",
       "      <td>3392</td>\n",
       "    </tr>\n",
       "    <tr>\n",
       "      <th>l</th>\n",
       "      <td>30371</td>\n",
       "      <td>2863</td>\n",
       "      <td>30371</td>\n",
       "      <td>2863</td>\n",
       "    </tr>\n",
       "    <tr>\n",
       "      <th>t</th>\n",
       "      <td>41652</td>\n",
       "      <td>2711</td>\n",
       "      <td>15406</td>\n",
       "      <td>2709</td>\n",
       "    </tr>\n",
       "    <tr>\n",
       "      <th>d</th>\n",
       "      <td>28030</td>\n",
       "      <td>2154</td>\n",
       "      <td>28030</td>\n",
       "      <td>2154</td>\n",
       "    </tr>\n",
       "    <tr>\n",
       "      <th>n</th>\n",
       "      <td>43318</td>\n",
       "      <td>1881</td>\n",
       "      <td>26440</td>\n",
       "      <td>1875</td>\n",
       "    </tr>\n",
       "    <tr>\n",
       "      <th>r</th>\n",
       "      <td>11876</td>\n",
       "      <td>1574</td>\n",
       "      <td>11876</td>\n",
       "      <td>1574</td>\n",
       "    </tr>\n",
       "    <tr>\n",
       "      <th>p</th>\n",
       "      <td>6276</td>\n",
       "      <td>1272</td>\n",
       "      <td>6276</td>\n",
       "      <td>1272</td>\n",
       "    </tr>\n",
       "    <tr>\n",
       "      <th>k</th>\n",
       "      <td>962</td>\n",
       "      <td>195</td>\n",
       "      <td>962</td>\n",
       "      <td>195</td>\n",
       "    </tr>\n",
       "    <tr>\n",
       "      <th>q</th>\n",
       "      <td>547</td>\n",
       "      <td>114</td>\n",
       "      <td>547</td>\n",
       "      <td>114</td>\n",
       "    </tr>\n",
       "    <tr>\n",
       "      <th>x</th>\n",
       "      <td>1226</td>\n",
       "      <td>90</td>\n",
       "      <td>1226</td>\n",
       "      <td>90</td>\n",
       "    </tr>\n",
       "    <tr>\n",
       "      <th>z</th>\n",
       "      <td>183</td>\n",
       "      <td>49</td>\n",
       "      <td>183</td>\n",
       "      <td>49</td>\n",
       "    </tr>\n",
       "    <tr>\n",
       "      <th>j</th>\n",
       "      <td>59</td>\n",
       "      <td>20</td>\n",
       "      <td>59</td>\n",
       "      <td>20</td>\n",
       "    </tr>\n",
       "  </tbody>\n",
       "</table>\n",
       "</div>"
      ],
      "text/plain": [
       "      all  unique  all_words_stop  unique_stop\n",
       "g  109027   11845          108314        11842\n",
       "s  124499    7329          123444         7324\n",
       "f   55554    5463           44269         5460\n",
       "w   82473    5054           82173         5052\n",
       "b   54524    4985           48972         4981\n",
       "+  251625    4690          251625         4690\n",
       "h  169913    4680           99929         4668\n",
       "c   42236    3849           42236         3849\n",
       "m   77687    3395           56598         3392\n",
       "l   30371    2863           30371         2863\n",
       "t   41652    2711           15406         2709\n",
       "d   28030    2154           28030         2154\n",
       "n   43318    1881           26440         1875\n",
       "r   11876    1574           11876         1574\n",
       "p    6276    1272            6276         1272\n",
       "k     962     195             962          195\n",
       "q     547     114             547          114\n",
       "x    1226      90            1226           90\n",
       "z     183      49             183           49\n",
       "j      59      20              59           20"
      ]
     },
     "execution_count": 24,
     "metadata": {},
     "output_type": "execute_result"
    }
   ],
   "source": [
    "no_vowels_table_ycoe.join(no_vowels_table_ycoe_stop)"
   ]
  },
  {
   "cell_type": "code",
   "execution_count": null,
   "metadata": {},
   "outputs": [],
   "source": []
  }
 ],
 "metadata": {
  "kernelspec": {
   "display_name": "Python 3",
   "language": "python",
   "name": "python3"
  },
  "language_info": {
   "codemirror_mode": {
    "name": "ipython",
    "version": 3
   },
   "file_extension": ".py",
   "mimetype": "text/x-python",
   "name": "python",
   "nbconvert_exporter": "python",
   "pygments_lexer": "ipython3",
   "version": "3.7.3"
  }
 },
 "nbformat": 4,
 "nbformat_minor": 4
}
